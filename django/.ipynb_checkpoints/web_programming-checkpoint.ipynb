{
 "cells": [
  {
   "cell_type": "code",
   "execution_count": 3,
   "metadata": {
    "collapsed": true
   },
   "outputs": [
    {
     "name": "stdout",
     "output_type": "stream",
     "text": [
      "<!doctype html>\n",
      "<html>\n",
      "<head>\n",
      "    <title>Example Domain</title>\n",
      "\n",
      "    <meta charset=\"utf-8\" />\n",
      "    <meta http-equiv=\"Content-type\" content=\"text/html; charset=utf-8\" />\n",
      "    <meta name=\"viewport\" content=\"width=device-width, initial-scale=1\" />\n",
      "    <style type=\"text/css\">\n",
      "    body {\n",
      "        background-color: #f0f0f2;\n",
      "        margin: 0;\n",
      "        padding: 0;\n",
      "        font-family: -apple-system, system-ui, BlinkMacSystemFont, \"Segoe UI\", \"Open Sans\", \"Helvetica Neue\", Helvetica, Arial, sans-serif;\n",
      "        \n",
      "    }\n",
      "    div {\n",
      "        width: 600px;\n",
      "        margin: 5em auto;\n",
      "        padding: 2em;\n",
      "        background-color: #fdfdff;\n",
      "        border-radius: 0.5em;\n",
      "        box-shadow: 2px 3px 7px 2px rgba(0,0,0,0.02);\n",
      "    }\n",
      "    a:link, a:visited {\n",
      "        color: #38488f;\n",
      "        text-decoration: none;\n",
      "    }\n",
      "    @media (max-width: 700px) {\n",
      "        div {\n",
      "            margin: 0 auto;\n",
      "            width: auto;\n",
      "        }\n",
      "    }\n",
      "    </style>    \n",
      "</head>\n",
      "\n",
      "<body>\n",
      "<div>\n",
      "    <h1>Example Domain</h1>\n",
      "    <p>This domain is for use in illustrative examples in documents. You may use this\n",
      "    domain in literature without prior coordination or asking for permission.</p>\n",
      "    <p><a href=\"https://www.iana.org/domains/example\">More information...</a></p>\n",
      "</div>\n",
      "</body>\n",
      "</html>\n",
      "\n"
     ]
    }
   ],
   "source": [
    "import urllib.request\n",
    "print(urllib.request.urlopen('http://www.example.com').read().decode('utf-8'))"
   ]
  },
  {
   "cell_type": "code",
   "execution_count": 5,
   "metadata": {
    "scrolled": true
   },
   "outputs": [
    {
     "data": {
      "text/plain": [
       "ParseResult(scheme='http', netloc='www.python.org:80', path='/guido/python.html', params='philosophy', query='overall=3', fragment='n10')"
      ]
     },
     "execution_count": 5,
     "metadata": {},
     "output_type": "execute_result"
    }
   ],
   "source": [
    "from urllib.parse import urlparse\n",
    "result = urlparse(\"http://www.python.org:80/guido/python.html;philosophy?overall=3#n10\")\n",
    "result"
   ]
  },
  {
   "cell_type": "code",
   "execution_count": 9,
   "metadata": {
    "collapsed": true
   },
   "outputs": [
    {
     "name": "stdout",
     "output_type": "stream",
     "text": [
      "<!doctype html>\n",
      "<html>\n",
      "<head>\n",
      "    <title>Example Domain</title>\n",
      "\n",
      "    <meta charset=\"utf-8\" />\n",
      "    <meta http-equiv=\"Content-type\" content=\"text/html; charset=utf-8\" />\n",
      "    <meta name=\"viewport\" content=\"width=device-width, initial-scale=1\" />\n",
      "    <style type=\"text/css\">\n",
      "    body {\n",
      "        background-color: #f0f0f2;\n",
      "        margin: 0;\n",
      "        padding: 0;\n",
      "        font-family: -apple-system, system-ui, BlinkMacSystemFont, \"Segoe UI\", \"Open Sans\", \"Helvetica Neue\", Helvetica, Arial, sans-serif;\n",
      "    \n"
     ]
    }
   ],
   "source": [
    "from urllib.request import urlopen\n",
    "\n",
    "f = urlopen(\"http://www.example.com\")\n",
    "\n",
    "print(f.read(500).decode('utf-8'))"
   ]
  },
  {
   "cell_type": "code",
   "execution_count": 13,
   "metadata": {},
   "outputs": [
    {
     "name": "stdout",
     "output_type": "stream",
     "text": [
      "<!DOCTYPE html>\n",
      "<html lang=\"ko\">\n",
      "\n",
      "\n",
      "\n",
      "\n",
      "<head>\n",
      "\n",
      "    <meta charset=\"utf-8\">\n",
      "    <meta http-equiv=\"X-UA-Compatible\" content=\"IE=edge\">\n",
      "    <meta name=\"viewport\" content=\"width=device-width, initial-scale=1\">\n",
      "\n",
      "    <title>ch2-test-server</title>\n",
      "\n",
      "    <link rel=\"stylesheet\" href=\"https://maxcdn.bootstrapcdn.com/bootstrap/3.3.6/css/bootstrap.min.css\">\n",
      "    <link rel=\"stylesheet\" href=\"https://maxcdn.bootstrapcdn.com/bootstrap/3.3.6/css/bootstrap-theme.min.css\">\n",
      "\n",
      "    <!-- my css -->\n",
      "    <link rel=\"shortcut\n"
     ]
    }
   ],
   "source": [
    "from urllib.request import urlopen\n",
    "\n",
    "음\n",
    "data = \"language=python&framework=django\"\n",
    "f = urlopen(\"http://127.0.0.1:8000\", bytes(data, encoding='utf-8'))\n",
    "# 내 ip가 서버인 것처럼 접속\n",
    "# 서버를 올린 후 실행하면 에러가 나지 않음\n",
    "\n",
    "print(f.read(500).decode('utf-8'))"
   ]
  },
  {
   "cell_type": "code",
   "execution_count": 14,
   "metadata": {},
   "outputs": [
    {
     "name": "stdout",
     "output_type": "stream",
     "text": [
      "Date: Wed, 27 Jan 2021 06:36:54 GMT\n",
      "Server: WSGIServer/0.2 CPython/3.9.0\n",
      "Content-Type: text/html; charset=utf-8\n",
      "X-Frame-Options: DENY\n",
      "Content-Length: 1758\n",
      "X-Content-Type-Options: nosniff\n",
      "Referrer-Policy: same-origin\n",
      "\n",
      "\n",
      "<!DOCTYPE html>\n",
      "<html lang=\"ko\">\n",
      "\n",
      "\n",
      "\n",
      "\n",
      "<head>\n",
      "\n",
      "    <meta charset=\"utf-8\">\n",
      "    <meta http-equiv=\"X-UA-Compatible\" content=\"IE=edge\">\n",
      "    <meta name=\"viewport\" content=\"width=device-width, initial-scale=1\">\n",
      "\n",
      "    <title>ch2-test-server</title>\n",
      "\n",
      "    <link rel=\"stylesheet\" href=\"https://maxcdn.bootstrapcdn.com/bootstrap/3.3.6/css/bootstrap.min.css\">\n",
      "    <link rel=\"stylesheet\" href=\"https://maxcdn.bootstrapcdn.com/bootstrap/3.3.6/css/bootstrap-theme.min.css\">\n",
      "\n",
      "    <!-- my css -->\n",
      "    <link rel=\"shortcut\n"
     ]
    }
   ],
   "source": [
    "from urllib.request import urlopen, Request\n",
    "from urllib.parse import urlencode\n",
    "\n",
    "\n",
    "url = 'http://127.0.0.1:8000'\n",
    "\n",
    "data = {\n",
    "    'name': '김석훈',\n",
    "    'email': 'shkim@naver.com',\n",
    "    'url': 'http://www.naver.com',\n",
    "}\n",
    "encData = urlencode(data)\n",
    "postData = bytes(encData, encoding='utf-8')\n",
    "\n",
    "req = Request(url, data=postData)\n",
    "req.add_header('Content-Type', 'application/x-www-form-urlencoded')\n",
    "\n",
    "f = urlopen(req)\n",
    "\n",
    "print(f.info())\n",
    "print(f.read(500).decode('utf-8'))"
   ]
  },
  {
   "cell_type": "code",
   "execution_count": 15,
   "metadata": {},
   "outputs": [
    {
     "name": "stdout",
     "output_type": "stream",
     "text": [
      "Date: Wed, 27 Jan 2021 06:48:32 GMT\n",
      "Server: WSGIServer/0.2 CPython/3.9.0\n",
      "Content-Type: text/html; charset=utf-8\n",
      "X-Frame-Options: DENY\n",
      "Content-Length: 59\n",
      "Vary: Cookie\n",
      "X-Content-Type-Options: nosniff\n",
      "Referrer-Policy: same-origin\n",
      "Set-Cookie: sessionid=3o7g60hx6cnadhgm3p7exkh2hkjuod0y; expires=Wed, 10 Feb 2021 06:48:32 GMT; HttpOnly; Max-Age=1209600; Path=/; SameSite=Lax\n",
      "\n",
      "\n",
      "GET Request&Response... This is set_test_cookie() Response.\n",
      "-------------------------------------------------------\n",
      "Date: Wed, 27 Jan 2021 06:48:32 GMT\n",
      "Server: WSGIServer/0.2 CPython/3.9.0\n",
      "Content-Type: text/html; charset=utf-8\n",
      "X-Frame-Options: DENY\n",
      "Content-Length: 45\n",
      "Vary: Cookie\n",
      "X-Content-Type-Options: nosniff\n",
      "Referrer-Policy: same-origin\n",
      "Set-Cookie: sessionid=3o7g60hx6cnadhgm3p7exkh2hkjuod0y; expires=Wed, 10 Feb 2021 06:48:32 GMT; HttpOnly; Max-Age=1209600; Path=/; SameSite=Lax\n",
      "\n",
      "\n",
      "POST Request&Response... OK. Cookie received.\n"
     ]
    }
   ],
   "source": [
    "from urllib.request import Request, HTTPCookieProcessor, build_opener\n",
    "\n",
    "\n",
    "url = 'http://127.0.0.1:8000/cookie/'\n",
    "\n",
    "# first request (GET) with cookie handler\n",
    "\n",
    "# 쿠키 핸들러 생성, 쿠키 데이터 저장은 디폴트로 CookieJar 객체를 사용함\n",
    "cookie_handler = HTTPCookieProcessor()\n",
    "opener = build_opener(cookie_handler)\n",
    "\n",
    "req = Request(url)\n",
    "res = opener.open(req)\n",
    "\n",
    "print(res.info())\n",
    "print(res.read().decode('utf-8'))\n",
    "\n",
    "# second request (POST)\n",
    "print(\"-------------------------------------------------------\")\n",
    "\n",
    "data = \"language=python&framework=django\"\n",
    "encData = bytes(data, encoding='utf-8')\n",
    "\n",
    "req = Request(url, encData)\n",
    "res = opener.open(req)\n",
    "\n",
    "print(res.info())\n",
    "print(res.read().decode('utf-8'))"
   ]
  },
  {
   "cell_type": "code",
   "execution_count": 16,
   "metadata": {},
   "outputs": [
    {
     "name": "stdout",
     "output_type": "stream",
     "text": [
      "\n",
      ">>>>>>>>> Fetch Images from http://www.google.co.kr\n",
      "/images/branding/googlelogo/1x/googlelogo_white_background_color_272x92dp.png\n",
      "/textinputassistant/tia.png\n"
     ]
    }
   ],
   "source": [
    "from urllib.request import urlopen\n",
    "from html.parser import HTMLParser\n",
    "\n",
    "\n",
    "class ImageParser(HTMLParser):\n",
    "    def handle_starttag(self, tag, attrs):\n",
    "        if tag != 'img':\n",
    "            return\n",
    "        if not hasattr(self, 'result'):\n",
    "            self.result = []\n",
    "        for name, value in attrs:\n",
    "            if name == 'src':\n",
    "                self.result.append(value)\n",
    "\n",
    "\n",
    "def parse_image(data):\n",
    "    parser = ImageParser()\n",
    "    parser.feed(data)\n",
    "    dataSet = set(x for x in parser.result)\n",
    "    return dataSet\n",
    "\n",
    "\n",
    "def main():\n",
    "    url = \"http://www.google.co.kr\"\n",
    "\n",
    "    with urlopen(url) as f:\n",
    "        charset = f.info().get_param('charset')\n",
    "        data = f.read().decode(charset)\n",
    "\n",
    "    dataSet = parse_image(data)\n",
    "    print(\"\\n>>>>>>>>> Fetch Images from\", url)\n",
    "    print('\\n'.join(sorted(dataSet)))\n",
    "\n",
    "\n",
    "if __name__ == '__main__':\n",
    "    main()"
   ]
  },
  {
   "cell_type": "code",
   "execution_count": null,
   "metadata": {},
   "outputs": [],
   "source": []
  }
 ],
 "metadata": {
  "kernelspec": {
   "display_name": "Python 3",
   "language": "python",
   "name": "python3"
  },
  "language_info": {
   "codemirror_mode": {
    "name": "ipython",
    "version": 3
   },
   "file_extension": ".py",
   "mimetype": "text/x-python",
   "name": "python",
   "nbconvert_exporter": "python",
   "pygments_lexer": "ipython3",
   "version": "3.9.0"
  }
 },
 "nbformat": 4,
 "nbformat_minor": 4
}
